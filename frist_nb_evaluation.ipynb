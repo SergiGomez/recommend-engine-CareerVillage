{
 "cells": [
  {
   "cell_type": "code",
   "execution_count": 1,
   "metadata": {},
   "outputs": [],
   "source": [
    "import numpy as np # linear algebra\n",
    "import pandas as pd # data processing, CSV file I/O (e.g. pd.read_csv)\n",
    "import os"
   ]
  },
  {
   "cell_type": "code",
   "execution_count": 23,
   "metadata": {},
   "outputs": [],
   "source": [
    "q = pd.read_csv('../input/questions.csv')\n",
    "ans = pd.read_csv('../input/answers.csv')"
   ]
  },
  {
   "cell_type": "code",
   "execution_count": 26,
   "metadata": {},
   "outputs": [],
   "source": [
    "qa = ans.merge(q, left_on = 'answers_question_id', right_on = 'questions_id',\n",
    "                        how = 'outer')"
   ]
  },
  {
   "cell_type": "code",
   "execution_count": 50,
   "metadata": {},
   "outputs": [],
   "source": [
    "qa['questions_date_added']  = pd.to_datetime(qa['questions_date_added'], infer_datetime_format=True)\n",
    "qa['answers_date_added']  = pd.to_datetime(qa['answers_date_added'], infer_datetime_format=True)"
   ]
  },
  {
   "cell_type": "code",
   "execution_count": 49,
   "metadata": {},
   "outputs": [
    {
     "name": "stdout",
     "output_type": "stream",
     "text": [
      "Number of days since the first question:  2683\n"
     ]
    }
   ],
   "source": [
    "num_days = (qa.questions_date_added.max() - qa.questions_date_added.min()).days\n",
    "print(\"Number of days since the first question: \", num_days)"
   ]
  },
  {
   "cell_type": "code",
   "execution_count": 32,
   "metadata": {},
   "outputs": [],
   "source": [
    "qa['q_answered'] = 1\n",
    "qa.loc[qa.answers_id.isnull(),'q_answered'] = 0"
   ]
  },
  {
   "cell_type": "code",
   "execution_count": 40,
   "metadata": {},
   "outputs": [
    {
     "name": "stdout",
     "output_type": "stream",
     "text": [
      "Perc. Questions Answer: 98.42% \n"
     ]
    }
   ],
   "source": [
    "perc_q_ans = np.round(100*qa[qa.q_answered == 1].shape[0] / qa.shape[0],2)\n",
    "print(\"Perc. Questions Answer: {}% \".format(perc_q_ans))"
   ]
  },
  {
   "cell_type": "code",
   "execution_count": 70,
   "metadata": {},
   "outputs": [],
   "source": [
    "qa['days_qa'] = qa.answers_date_added - qa.questions_date_added"
   ]
  }
 ],
 "metadata": {
  "kernelspec": {
   "display_name": "Python [conda env:kaggle]",
   "language": "python",
   "name": "conda-env-kaggle-py"
  },
  "language_info": {
   "codemirror_mode": {
    "name": "ipython",
    "version": 3
   },
   "file_extension": ".py",
   "mimetype": "text/x-python",
   "name": "python",
   "nbconvert_exporter": "python",
   "pygments_lexer": "ipython3",
   "version": "3.6.8"
  }
 },
 "nbformat": 4,
 "nbformat_minor": 2
}
