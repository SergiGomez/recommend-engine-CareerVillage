{
 "cells": [
  {
   "cell_type": "code",
   "execution_count": 2,
   "metadata": {},
   "outputs": [],
   "source": [
    "import numpy as np # linear algebra\n",
    "import pandas as pd # data processing, CSV file I/O (e.g. pd.read_csv)\n",
    "import os\n",
    "import gc\n",
    "\n",
    "from scipy.sparse import coo_matrix\n",
    "\n",
    "from sklearn.feature_extraction.text import TfidfVectorizer, CountVectorizer\n",
    "from sklearn.metrics.pairwise import linear_kernel, cosine_similarity\n",
    "\n",
    "import nltk\n",
    "from nltk.corpus import stopwords"
   ]
  },
  {
   "cell_type": "markdown",
   "metadata": {},
   "source": [
    "##### Additional packages / files to be downloaded "
   ]
  },
  {
   "cell_type": "code",
   "execution_count": 3,
   "metadata": {},
   "outputs": [
    {
     "name": "stderr",
     "output_type": "stream",
     "text": [
      "[nltk_data] Downloading package stopwords to\n",
      "[nltk_data]     /Users/sergigomezpalleja/nltk_data...\n",
      "[nltk_data]   Package stopwords is already up-to-date!\n"
     ]
    }
   ],
   "source": [
    "nltk.download('stopwords')\n",
    "stop = stopwords.words('english')"
   ]
  },
  {
   "cell_type": "code",
   "execution_count": 6,
   "metadata": {},
   "outputs": [],
   "source": [
    "q = pd.read_csv('../input/questions.csv')\n",
    "ans = pd.read_csv('../input/answers.csv')"
   ]
  },
  {
   "cell_type": "code",
   "execution_count": 26,
   "metadata": {},
   "outputs": [],
   "source": [
    "qa = ans.merge(q, left_on = 'answers_question_id', right_on = 'questions_id',\n",
    "                        how = 'outer')"
   ]
  },
  {
   "cell_type": "markdown",
   "metadata": {},
   "source": [
    "### Processing text"
   ]
  },
  {
   "cell_type": "markdown",
   "metadata": {},
   "source": [
    "#### Cleaning text"
   ]
  },
  {
   "cell_type": "code",
   "execution_count": 4,
   "metadata": {},
   "outputs": [],
   "source": [
    "def process_text(df, col):\n",
    "    df[col] = df[col].str.replace('[^\\w\\s]','') # replacing punctuations\n",
    "    df[col] = df[col].str.replace('-',' ') # replacing dashes\n",
    "    df[col] = df[col].str.replace('\\d+','') # replacing digits\n",
    "    df[col] = df[col].str.lower().str.split() # convert all str to lowercase    \n",
    "    df[col] = df[col].apply(lambda x: [item for item in x if item not in stop]) # remove stopwords    \n",
    "    df[col] = df[col].apply(' '.join) # convert list to str\n",
    "    return df"
   ]
  },
  {
   "cell_type": "code",
   "execution_count": 7,
   "metadata": {},
   "outputs": [],
   "source": [
    "q['questions_title_orig'] = q['questions_title'] \n",
    "q['questions_body_orig'] = q['questions_body'] \n",
    "q = process_text(q, \"questions_title\") \n",
    "q = process_text(q, \"questions_body\") "
   ]
  },
  {
   "cell_type": "markdown",
   "metadata": {},
   "source": [
    "#### Create indexing"
   ]
  },
  {
   "cell_type": "code",
   "execution_count": 8,
   "metadata": {},
   "outputs": [],
   "source": [
    "q_id_to_idx = {q_id: i for i, q_id in zip(q.index, q.questions_id)}"
   ]
  },
  {
   "cell_type": "markdown",
   "metadata": {},
   "source": [
    "#### Text to numerical features"
   ]
  },
  {
   "cell_type": "code",
   "execution_count": 9,
   "metadata": {},
   "outputs": [
    {
     "name": "stdout",
     "output_type": "stream",
     "text": [
      "Shape of TFiDF matrix:  (23931, 27875)\n"
     ]
    }
   ],
   "source": [
    "tf = TfidfVectorizer(analyzer='word',\n",
    "                     ngram_range=(1,2),\n",
    "                     min_df=3,\n",
    "                     max_df=0.9,\n",
    "                     stop_words='english')\n",
    "tfidf_matrix = tf.fit_transform(q['questions_body'])\n",
    "print(\"Shape of TFiDF matrix: \", tfidf_matrix.shape)"
   ]
  },
  {
   "cell_type": "markdown",
   "metadata": {},
   "source": [
    "### Similarity between questions"
   ]
  },
  {
   "cell_type": "code",
   "execution_count": 10,
   "metadata": {},
   "outputs": [],
   "source": [
    "cosine_sim = linear_kernel(tfidf_matrix, tfidf_matrix)"
   ]
  },
  {
   "cell_type": "code",
   "execution_count": 11,
   "metadata": {},
   "outputs": [
    {
     "data": {
      "text/plain": [
       "array(['Teacher   career   question',\n",
       "       'I want to become an army officer. What can I do to become an army officer?',\n",
       "       'Will going abroad for your first job increase your chances for jobs back home?',\n",
       "       'To become a specialist in business  management, will I have to network myself?',\n",
       "       'Are there any scholarships out there for students that are first generation and live in GA?'],\n",
       "      dtype=object)"
      ]
     },
     "execution_count": 11,
     "metadata": {},
     "output_type": "execute_result"
    }
   ],
   "source": [
    "q.questions_title_orig.values[0:5]"
   ]
  },
  {
   "cell_type": "code",
   "execution_count": 12,
   "metadata": {},
   "outputs": [],
   "source": [
    "# Question title to find its similar questions\n",
    "title_original ='I want to become an army officer. What can I do to become an army officer?'"
   ]
  },
  {
   "cell_type": "code",
   "execution_count": 13,
   "metadata": {},
   "outputs": [],
   "source": [
    "# From title to question ID\n",
    "q_id = q[q.questions_title_orig == title_original].questions_id.values\n",
    "# From question ID to Index\n",
    "idx = q_id_to_idx[q_id[0]]"
   ]
  },
  {
   "cell_type": "code",
   "execution_count": 14,
   "metadata": {},
   "outputs": [],
   "source": [
    "sim_scores = list(enumerate(cosine_sim[idx]))\n",
    "sim_scores = sorted(sim_scores, key=lambda x: x[1], reverse=True)\n",
    "sim_scores = sim_scores[1:31]"
   ]
  },
  {
   "cell_type": "code",
   "execution_count": 15,
   "metadata": {},
   "outputs": [],
   "source": [
    "q_indices = [i[0] for i in sim_scores]"
   ]
  },
  {
   "cell_type": "code",
   "execution_count": 16,
   "metadata": {},
   "outputs": [
    {
     "name": "stdout",
     "output_type": "stream",
     "text": [
      "['how do i get in the U.S Marines?' 'What do you do in the army?'\n",
      " 'what to do after tenth' 'How do I become an army officer?'\n",
      " 'can  i go in the army']\n"
     ]
    }
   ],
   "source": [
    "print(q.iloc[q_indices].questions_title_orig.values[0:5])"
   ]
  }
 ],
 "metadata": {
  "kernelspec": {
   "display_name": "Python [conda env:kaggle]",
   "language": "python",
   "name": "conda-env-kaggle-py"
  },
  "language_info": {
   "codemirror_mode": {
    "name": "ipython",
    "version": 3
   },
   "file_extension": ".py",
   "mimetype": "text/x-python",
   "name": "python",
   "nbconvert_exporter": "python",
   "pygments_lexer": "ipython3",
   "version": "3.6.8"
  }
 },
 "nbformat": 4,
 "nbformat_minor": 2
}
