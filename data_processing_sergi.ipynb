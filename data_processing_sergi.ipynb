{
 "cells": [
  {
   "cell_type": "code",
   "execution_count": 127,
   "metadata": {},
   "outputs": [],
   "source": [
    "import numpy as np # linear algebra\n",
    "import pandas as pd # data processing, CSV file I/O (e.g. pd.read_csv)\n",
    "import os\n",
    "import gc"
   ]
  },
  {
   "cell_type": "markdown",
   "metadata": {},
   "source": [
    "## Data inputs"
   ]
  },
  {
   "cell_type": "code",
   "execution_count": 128,
   "metadata": {},
   "outputs": [],
   "source": [
    "ans = pd.read_csv('../input/answers.csv')\n",
    "q = pd.read_csv('../input/questions.csv')\n",
    "prof = pd.read_csv('../input/professionals.csv')\n",
    "st = pd.read_csv('../input/students.csv')"
   ]
  },
  {
   "cell_type": "markdown",
   "metadata": {},
   "source": [
    "#### Merging datasets"
   ]
  },
  {
   "cell_type": "code",
   "execution_count": 129,
   "metadata": {},
   "outputs": [],
   "source": [
    "qa = ans.merge(q, left_on = 'answers_question_id', right_on = 'questions_id',\n",
    "                        how = 'outer')"
   ]
  },
  {
   "cell_type": "code",
   "execution_count": 130,
   "metadata": {},
   "outputs": [],
   "source": [
    "qap = qa.merge(prof, left_on = 'answers_author_id', right_on = 'professionals_id',\n",
    "                    how = 'outer')"
   ]
  },
  {
   "cell_type": "code",
   "execution_count": 131,
   "metadata": {},
   "outputs": [],
   "source": [
    "qaps = qap.merge(st, left_on = 'questions_author_id', right_on = 'students_id',\n",
    "                    how = 'outer')"
   ]
  },
  {
   "cell_type": "code",
   "execution_count": 132,
   "metadata": {},
   "outputs": [],
   "source": [
    "#qaps.head(1).T\n",
    "#qaps[(qaps.answers_question_id.isnull()) & (~qaps.questions_id.isnull())].shape[0]\n",
    "if (qaps[(~qaps.answers_question_id.isnull()) & (qaps.questions_id.isnull())].shape[0] > 0): print(\"Problem with the Questions ID's\")"
   ]
  },
  {
   "cell_type": "code",
   "execution_count": 133,
   "metadata": {},
   "outputs": [
    {
     "data": {
      "text/plain": [
       "1017"
      ]
     },
     "execution_count": 133,
     "metadata": {},
     "output_type": "execute_result"
    }
   ],
   "source": [
    "qaps[(~qaps.answers_author_id.isnull()) & (qaps.professionals_id.isnull())].shape[0] # Why???"
   ]
  },
  {
   "cell_type": "code",
   "execution_count": 135,
   "metadata": {},
   "outputs": [
    {
     "data": {
      "text/plain": [
       "413"
      ]
     },
     "execution_count": 135,
     "metadata": {},
     "output_type": "execute_result"
    }
   ],
   "source": [
    "qaps[(~qaps.questions_author_id.isnull()) & (qaps.students_id.isnull())].shape[0]"
   ]
  },
  {
   "cell_type": "code",
   "execution_count": 136,
   "metadata": {},
   "outputs": [],
   "source": [
    "del qap"
   ]
  },
  {
   "cell_type": "code",
   "execution_count": 137,
   "metadata": {},
   "outputs": [],
   "source": [
    "cols_remove = ['answers_body', 'questions_title', 'questions_body', 'professionals_headline']"
   ]
  },
  {
   "cell_type": "code",
   "execution_count": 138,
   "metadata": {},
   "outputs": [],
   "source": [
    "qaps = qaps.drop(cols_remove, axis = 1)"
   ]
  },
  {
   "cell_type": "code",
   "execution_count": 139,
   "metadata": {},
   "outputs": [
    {
     "data": {
      "text/plain": [
       "1330"
      ]
     },
     "execution_count": 139,
     "metadata": {},
     "output_type": "execute_result"
    }
   ],
   "source": [
    "gc.collect()"
   ]
  },
  {
   "cell_type": "code",
   "execution_count": 140,
   "metadata": {},
   "outputs": [
    {
     "data": {
      "text/html": [
       "<div>\n",
       "<style scoped>\n",
       "    .dataframe tbody tr th:only-of-type {\n",
       "        vertical-align: middle;\n",
       "    }\n",
       "\n",
       "    .dataframe tbody tr th {\n",
       "        vertical-align: top;\n",
       "    }\n",
       "\n",
       "    .dataframe thead th {\n",
       "        text-align: right;\n",
       "    }\n",
       "</style>\n",
       "<table border=\"1\" class=\"dataframe\">\n",
       "  <thead>\n",
       "    <tr style=\"text-align: right;\">\n",
       "      <th></th>\n",
       "      <th>0</th>\n",
       "      <th>1</th>\n",
       "    </tr>\n",
       "  </thead>\n",
       "  <tbody>\n",
       "    <tr>\n",
       "      <th>answers_id</th>\n",
       "      <td>4e5f01128cae4f6d8fd697cec5dca60c</td>\n",
       "      <td>334f6735d31e45589e43da5ae7056e50</td>\n",
       "    </tr>\n",
       "    <tr>\n",
       "      <th>answers_author_id</th>\n",
       "      <td>36ff3b3666df400f956f8335cf53e09e</td>\n",
       "      <td>05ab77d4c6a141b999044ebbf5415b0d</td>\n",
       "    </tr>\n",
       "    <tr>\n",
       "      <th>answers_question_id</th>\n",
       "      <td>332a511f1569444485cf7a7a556a5e54</td>\n",
       "      <td>7a0d4bc67b1c492fb06fe455b1c07faf</td>\n",
       "    </tr>\n",
       "    <tr>\n",
       "      <th>answers_date_added</th>\n",
       "      <td>2016-04-29 19:40:14 UTC+0000</td>\n",
       "      <td>2018-03-08 18:23:36 UTC+0000</td>\n",
       "    </tr>\n",
       "    <tr>\n",
       "      <th>questions_id</th>\n",
       "      <td>332a511f1569444485cf7a7a556a5e54</td>\n",
       "      <td>7a0d4bc67b1c492fb06fe455b1c07faf</td>\n",
       "    </tr>\n",
       "    <tr>\n",
       "      <th>questions_author_id</th>\n",
       "      <td>8f6f374ffd834d258ab69d376dd998f5</td>\n",
       "      <td>8f6f374ffd834d258ab69d376dd998f5</td>\n",
       "    </tr>\n",
       "    <tr>\n",
       "      <th>questions_date_added</th>\n",
       "      <td>2016-04-26 11:14:26 UTC+0000</td>\n",
       "      <td>2016-04-26 10:59:44 UTC+0000</td>\n",
       "    </tr>\n",
       "    <tr>\n",
       "      <th>professionals_id</th>\n",
       "      <td>36ff3b3666df400f956f8335cf53e09e</td>\n",
       "      <td>05ab77d4c6a141b999044ebbf5415b0d</td>\n",
       "    </tr>\n",
       "    <tr>\n",
       "      <th>professionals_location</th>\n",
       "      <td>Cleveland, Ohio</td>\n",
       "      <td>Greater New York City Area</td>\n",
       "    </tr>\n",
       "    <tr>\n",
       "      <th>professionals_industry</th>\n",
       "      <td>Mental Health Care</td>\n",
       "      <td>Education Management</td>\n",
       "    </tr>\n",
       "    <tr>\n",
       "      <th>professionals_date_joined</th>\n",
       "      <td>2015-10-19 20:56:49 UTC+0000</td>\n",
       "      <td>2018-01-31 21:47:21 UTC+0000</td>\n",
       "    </tr>\n",
       "    <tr>\n",
       "      <th>students_id</th>\n",
       "      <td>8f6f374ffd834d258ab69d376dd998f5</td>\n",
       "      <td>8f6f374ffd834d258ab69d376dd998f5</td>\n",
       "    </tr>\n",
       "    <tr>\n",
       "      <th>students_location</th>\n",
       "      <td>Coimbatore, Tamil Nadu, India</td>\n",
       "      <td>Coimbatore, Tamil Nadu, India</td>\n",
       "    </tr>\n",
       "    <tr>\n",
       "      <th>students_date_joined</th>\n",
       "      <td>2016-04-22 10:07:32 UTC+0000</td>\n",
       "      <td>2016-04-22 10:07:32 UTC+0000</td>\n",
       "    </tr>\n",
       "  </tbody>\n",
       "</table>\n",
       "</div>"
      ],
      "text/plain": [
       "                                                          0  \\\n",
       "answers_id                 4e5f01128cae4f6d8fd697cec5dca60c   \n",
       "answers_author_id          36ff3b3666df400f956f8335cf53e09e   \n",
       "answers_question_id        332a511f1569444485cf7a7a556a5e54   \n",
       "answers_date_added             2016-04-29 19:40:14 UTC+0000   \n",
       "questions_id               332a511f1569444485cf7a7a556a5e54   \n",
       "questions_author_id        8f6f374ffd834d258ab69d376dd998f5   \n",
       "questions_date_added           2016-04-26 11:14:26 UTC+0000   \n",
       "professionals_id           36ff3b3666df400f956f8335cf53e09e   \n",
       "professionals_location                      Cleveland, Ohio   \n",
       "professionals_industry                   Mental Health Care   \n",
       "professionals_date_joined      2015-10-19 20:56:49 UTC+0000   \n",
       "students_id                8f6f374ffd834d258ab69d376dd998f5   \n",
       "students_location             Coimbatore, Tamil Nadu, India   \n",
       "students_date_joined           2016-04-22 10:07:32 UTC+0000   \n",
       "\n",
       "                                                          1  \n",
       "answers_id                 334f6735d31e45589e43da5ae7056e50  \n",
       "answers_author_id          05ab77d4c6a141b999044ebbf5415b0d  \n",
       "answers_question_id        7a0d4bc67b1c492fb06fe455b1c07faf  \n",
       "answers_date_added             2018-03-08 18:23:36 UTC+0000  \n",
       "questions_id               7a0d4bc67b1c492fb06fe455b1c07faf  \n",
       "questions_author_id        8f6f374ffd834d258ab69d376dd998f5  \n",
       "questions_date_added           2016-04-26 10:59:44 UTC+0000  \n",
       "professionals_id           05ab77d4c6a141b999044ebbf5415b0d  \n",
       "professionals_location           Greater New York City Area  \n",
       "professionals_industry                 Education Management  \n",
       "professionals_date_joined      2018-01-31 21:47:21 UTC+0000  \n",
       "students_id                8f6f374ffd834d258ab69d376dd998f5  \n",
       "students_location             Coimbatore, Tamil Nadu, India  \n",
       "students_date_joined           2016-04-22 10:07:32 UTC+0000  "
      ]
     },
     "execution_count": 140,
     "metadata": {},
     "output_type": "execute_result"
    }
   ],
   "source": [
    "qaps.head(2).T"
   ]
  },
  {
   "cell_type": "markdown",
   "metadata": {},
   "source": [
    "## Processing data"
   ]
  },
  {
   "cell_type": "markdown",
   "metadata": {},
   "source": [
    "### Question space"
   ]
  },
  {
   "cell_type": "markdown",
   "metadata": {},
   "source": [
    "#### Number of answers per question"
   ]
  },
  {
   "cell_type": "code",
   "execution_count": 142,
   "metadata": {},
   "outputs": [],
   "source": [
    "ans_per_q = ans.groupby('answers_question_id').size() #size() includes NaN values\n",
    "ans_per_q = pd.DataFrame(ans_per_q.rename('count'))\n",
    "qaps['ans_per_q'] = pd.merge(qaps, ans_per_q, left_on='questions_id', right_index=True, how='left')['count'].fillna(0).astype(int)"
   ]
  },
  {
   "cell_type": "code",
   "execution_count": 143,
   "metadata": {},
   "outputs": [],
   "source": [
    "# Sanity check\n",
    "#qaps[(qaps.ans_per_q > 0) & (qaps.questions_id.isnull())].shape[0]\n",
    "#qaps[(qaps.ans_per_q > 0) & (qaps.answers_id.isnull())].shape[0]\n",
    "if (qaps[(qaps.ans_per_q == 0) & (~qaps.answers_id.isnull())].shape[0] > 0): print(\"There is an error with this metric\")"
   ]
  },
  {
   "cell_type": "markdown",
   "metadata": {},
   "source": [
    "#### First and Last answer per question"
   ]
  },
  {
   "cell_type": "code",
   "execution_count": 144,
   "metadata": {},
   "outputs": [],
   "source": [
    "first_ans = ans[['answers_question_id', 'answers_date_added']].groupby('answers_question_id').min()\n",
    "first_ans = first_ans.rename(columns = {'answers_date_added': 'first_ans_per_q'})\n",
    "\n",
    "last_ans = ans[['answers_question_id', 'answers_date_added']].groupby('answers_question_id').max()\n",
    "last_ans = last_ans.rename(columns = {'answers_date_added': 'last_ans_per_q'})\n",
    "\n",
    "qaps['first_ans_per_q'] = pd.merge(qaps, first_ans, \n",
    "                                   left_on='questions_id',\n",
    "                                   right_index=True, how='left')['first_ans_per_q']\n",
    "\n",
    "qaps['last_ans_per_q'] = pd.merge(qaps, last_ans, \n",
    "                                   left_on='questions_id',\n",
    "                                   right_index=True, how='left')['last_ans_per_q']"
   ]
  },
  {
   "cell_type": "code",
   "execution_count": 123,
   "metadata": {},
   "outputs": [],
   "source": [
    "#qaps[qaps.ans_per_q == 58].answers_date_added.max()"
   ]
  },
  {
   "cell_type": "code",
   "execution_count": 146,
   "metadata": {},
   "outputs": [
    {
     "name": "stdout",
     "output_type": "stream",
     "text": [
      "Number of days since the first question:  2683\n"
     ]
    }
   ],
   "source": [
    "num_days = (qaps.questions_date_added.max() - qaps.questions_date_added.min()).days\n",
    "print(\"Number of days since the first question: \", num_days)"
   ]
  },
  {
   "cell_type": "markdown",
   "metadata": {},
   "source": [
    "#### Time to answer a question"
   ]
  },
  {
   "cell_type": "code",
   "execution_count": 152,
   "metadata": {},
   "outputs": [],
   "source": [
    "qaps['questions_date_added']  = pd.to_datetime(qaps['questions_date_added'], infer_datetime_format=True)\n",
    "qaps['answers_date_added']  = pd.to_datetime(qaps['answers_date_added'], infer_datetime_format=True)\n",
    "qaps['professionals_date_joined']  = pd.to_datetime(qaps['professionals_date_joined'], infer_datetime_format=True)\n",
    "qaps['students_date_joined']  = pd.to_datetime(qaps['students_date_joined'], infer_datetime_format=True)\n",
    "qaps['first_ans_per_q']  = pd.to_datetime(qaps['first_ans_per_q'], infer_datetime_format=True)\n",
    "qaps['last_ans_per_q']  = pd.to_datetime(qaps['last_ans_per_q'], infer_datetime_format=True)"
   ]
  },
  {
   "cell_type": "code",
   "execution_count": 153,
   "metadata": {},
   "outputs": [],
   "source": [
    "qaps['q_answered'] = 0\n",
    "qaps.loc[(~qaps.answers_id.isnull()) & (~qaps.questions_id.isnull()),'q_answered'] = 1"
   ]
  },
  {
   "cell_type": "code",
   "execution_count": 154,
   "metadata": {},
   "outputs": [],
   "source": [
    "qaps.loc[qaps.q_answered == 1,'days_to_ans'] = qaps.answers_date_added - qaps.questions_date_added\n",
    "qaps.loc[qaps.q_answered == 1,'days_first_ans'] = qaps.first_ans_per_q - qaps.questions_date_added"
   ]
  },
  {
   "cell_type": "code",
   "execution_count": 155,
   "metadata": {},
   "outputs": [
    {
     "name": "stdout",
     "output_type": "stream",
     "text": [
      "Average number of days to answer a question:  139\n",
      "Average number of days for the first answer:  48\n"
     ]
    }
   ],
   "source": [
    "print(\"Average number of days to answer a question: \", qaps.days_to_ans.mean(skipna = True).days)\n",
    "print(\"Average number of days for the first answer: \", qaps.days_first_ans.mean(skipna = True).days)"
   ]
  },
  {
   "cell_type": "code",
   "execution_count": 156,
   "metadata": {},
   "outputs": [
    {
     "data": {
      "text/html": [
       "<div>\n",
       "<style scoped>\n",
       "    .dataframe tbody tr th:only-of-type {\n",
       "        vertical-align: middle;\n",
       "    }\n",
       "\n",
       "    .dataframe tbody tr th {\n",
       "        vertical-align: top;\n",
       "    }\n",
       "\n",
       "    .dataframe thead th {\n",
       "        text-align: right;\n",
       "    }\n",
       "</style>\n",
       "<table border=\"1\" class=\"dataframe\">\n",
       "  <thead>\n",
       "    <tr style=\"text-align: right;\">\n",
       "      <th></th>\n",
       "      <th>0</th>\n",
       "      <th>1</th>\n",
       "    </tr>\n",
       "  </thead>\n",
       "  <tbody>\n",
       "    <tr>\n",
       "      <th>answers_id</th>\n",
       "      <td>4e5f01128cae4f6d8fd697cec5dca60c</td>\n",
       "      <td>334f6735d31e45589e43da5ae7056e50</td>\n",
       "    </tr>\n",
       "    <tr>\n",
       "      <th>answers_author_id</th>\n",
       "      <td>36ff3b3666df400f956f8335cf53e09e</td>\n",
       "      <td>05ab77d4c6a141b999044ebbf5415b0d</td>\n",
       "    </tr>\n",
       "    <tr>\n",
       "      <th>answers_question_id</th>\n",
       "      <td>332a511f1569444485cf7a7a556a5e54</td>\n",
       "      <td>7a0d4bc67b1c492fb06fe455b1c07faf</td>\n",
       "    </tr>\n",
       "    <tr>\n",
       "      <th>answers_date_added</th>\n",
       "      <td>2016-04-29 19:40:14</td>\n",
       "      <td>2018-03-08 18:23:36</td>\n",
       "    </tr>\n",
       "    <tr>\n",
       "      <th>questions_id</th>\n",
       "      <td>332a511f1569444485cf7a7a556a5e54</td>\n",
       "      <td>7a0d4bc67b1c492fb06fe455b1c07faf</td>\n",
       "    </tr>\n",
       "    <tr>\n",
       "      <th>questions_author_id</th>\n",
       "      <td>8f6f374ffd834d258ab69d376dd998f5</td>\n",
       "      <td>8f6f374ffd834d258ab69d376dd998f5</td>\n",
       "    </tr>\n",
       "    <tr>\n",
       "      <th>questions_date_added</th>\n",
       "      <td>2016-04-26 11:14:26</td>\n",
       "      <td>2016-04-26 10:59:44</td>\n",
       "    </tr>\n",
       "    <tr>\n",
       "      <th>professionals_id</th>\n",
       "      <td>36ff3b3666df400f956f8335cf53e09e</td>\n",
       "      <td>05ab77d4c6a141b999044ebbf5415b0d</td>\n",
       "    </tr>\n",
       "    <tr>\n",
       "      <th>professionals_location</th>\n",
       "      <td>Cleveland, Ohio</td>\n",
       "      <td>Greater New York City Area</td>\n",
       "    </tr>\n",
       "    <tr>\n",
       "      <th>professionals_industry</th>\n",
       "      <td>Mental Health Care</td>\n",
       "      <td>Education Management</td>\n",
       "    </tr>\n",
       "    <tr>\n",
       "      <th>professionals_date_joined</th>\n",
       "      <td>2015-10-19 20:56:49</td>\n",
       "      <td>2018-01-31 21:47:21</td>\n",
       "    </tr>\n",
       "    <tr>\n",
       "      <th>students_id</th>\n",
       "      <td>8f6f374ffd834d258ab69d376dd998f5</td>\n",
       "      <td>8f6f374ffd834d258ab69d376dd998f5</td>\n",
       "    </tr>\n",
       "    <tr>\n",
       "      <th>students_location</th>\n",
       "      <td>Coimbatore, Tamil Nadu, India</td>\n",
       "      <td>Coimbatore, Tamil Nadu, India</td>\n",
       "    </tr>\n",
       "    <tr>\n",
       "      <th>students_date_joined</th>\n",
       "      <td>2016-04-22 10:07:32</td>\n",
       "      <td>2016-04-22 10:07:32</td>\n",
       "    </tr>\n",
       "    <tr>\n",
       "      <th>ans_per_q</th>\n",
       "      <td>1</td>\n",
       "      <td>3</td>\n",
       "    </tr>\n",
       "    <tr>\n",
       "      <th>first_ans_per_q</th>\n",
       "      <td>2016-04-29 19:40:14</td>\n",
       "      <td>2016-07-03 18:38:36</td>\n",
       "    </tr>\n",
       "    <tr>\n",
       "      <th>last_ans_per_q</th>\n",
       "      <td>2016-04-29 19:40:14</td>\n",
       "      <td>2018-03-08 18:24:03</td>\n",
       "    </tr>\n",
       "    <tr>\n",
       "      <th>q_answered</th>\n",
       "      <td>1</td>\n",
       "      <td>1</td>\n",
       "    </tr>\n",
       "    <tr>\n",
       "      <th>days_to_ans</th>\n",
       "      <td>3 days 08:25:48</td>\n",
       "      <td>681 days 07:23:52</td>\n",
       "    </tr>\n",
       "    <tr>\n",
       "      <th>days_first_ans</th>\n",
       "      <td>3 days 08:25:48</td>\n",
       "      <td>68 days 07:38:52</td>\n",
       "    </tr>\n",
       "  </tbody>\n",
       "</table>\n",
       "</div>"
      ],
      "text/plain": [
       "                                                          0  \\\n",
       "answers_id                 4e5f01128cae4f6d8fd697cec5dca60c   \n",
       "answers_author_id          36ff3b3666df400f956f8335cf53e09e   \n",
       "answers_question_id        332a511f1569444485cf7a7a556a5e54   \n",
       "answers_date_added                      2016-04-29 19:40:14   \n",
       "questions_id               332a511f1569444485cf7a7a556a5e54   \n",
       "questions_author_id        8f6f374ffd834d258ab69d376dd998f5   \n",
       "questions_date_added                    2016-04-26 11:14:26   \n",
       "professionals_id           36ff3b3666df400f956f8335cf53e09e   \n",
       "professionals_location                      Cleveland, Ohio   \n",
       "professionals_industry                   Mental Health Care   \n",
       "professionals_date_joined               2015-10-19 20:56:49   \n",
       "students_id                8f6f374ffd834d258ab69d376dd998f5   \n",
       "students_location             Coimbatore, Tamil Nadu, India   \n",
       "students_date_joined                    2016-04-22 10:07:32   \n",
       "ans_per_q                                                 1   \n",
       "first_ans_per_q                         2016-04-29 19:40:14   \n",
       "last_ans_per_q                          2016-04-29 19:40:14   \n",
       "q_answered                                                1   \n",
       "days_to_ans                                 3 days 08:25:48   \n",
       "days_first_ans                              3 days 08:25:48   \n",
       "\n",
       "                                                          1  \n",
       "answers_id                 334f6735d31e45589e43da5ae7056e50  \n",
       "answers_author_id          05ab77d4c6a141b999044ebbf5415b0d  \n",
       "answers_question_id        7a0d4bc67b1c492fb06fe455b1c07faf  \n",
       "answers_date_added                      2018-03-08 18:23:36  \n",
       "questions_id               7a0d4bc67b1c492fb06fe455b1c07faf  \n",
       "questions_author_id        8f6f374ffd834d258ab69d376dd998f5  \n",
       "questions_date_added                    2016-04-26 10:59:44  \n",
       "professionals_id           05ab77d4c6a141b999044ebbf5415b0d  \n",
       "professionals_location           Greater New York City Area  \n",
       "professionals_industry                 Education Management  \n",
       "professionals_date_joined               2018-01-31 21:47:21  \n",
       "students_id                8f6f374ffd834d258ab69d376dd998f5  \n",
       "students_location             Coimbatore, Tamil Nadu, India  \n",
       "students_date_joined                    2016-04-22 10:07:32  \n",
       "ans_per_q                                                 3  \n",
       "first_ans_per_q                         2016-07-03 18:38:36  \n",
       "last_ans_per_q                          2018-03-08 18:24:03  \n",
       "q_answered                                                1  \n",
       "days_to_ans                               681 days 07:23:52  \n",
       "days_first_ans                             68 days 07:38:52  "
      ]
     },
     "execution_count": 156,
     "metadata": {},
     "output_type": "execute_result"
    }
   ],
   "source": [
    "qaps.head(2).T"
   ]
  }
 ],
 "metadata": {
  "kernelspec": {
   "display_name": "Python [conda env:kaggle]",
   "language": "python",
   "name": "conda-env-kaggle-py"
  },
  "language_info": {
   "codemirror_mode": {
    "name": "ipython",
    "version": 3
   },
   "file_extension": ".py",
   "mimetype": "text/x-python",
   "name": "python",
   "nbconvert_exporter": "python",
   "pygments_lexer": "ipython3",
   "version": "3.6.8"
  }
 },
 "nbformat": 4,
 "nbformat_minor": 2
}
