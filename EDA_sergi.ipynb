{
 "cells": [
  {
   "cell_type": "code",
   "execution_count": 1,
   "metadata": {},
   "outputs": [],
   "source": [
    "import numpy as np # linear algebra\n",
    "import pandas as pd # data processing, CSV file I/O (e.g. pd.read_csv)\n",
    "import os\n",
    "import matplotlib.pyplot as plt"
   ]
  },
  {
   "cell_type": "code",
   "execution_count": 2,
   "metadata": {},
   "outputs": [],
   "source": [
    "ans = pd.read_csv('../input/answers.csv')\n",
    "q = pd.read_csv('../input/questions.csv')\n",
    "prof = pd.read_csv('../input/professionals.csv')\n",
    "st = pd.read_csv('../input/students.csv')"
   ]
  },
  {
   "cell_type": "code",
   "execution_count": 3,
   "metadata": {},
   "outputs": [
    {
     "name": "stdout",
     "output_type": "stream",
     "text": [
      "Number of students:  30971\n",
      "Number of professionals:  28152\n",
      "Number of questions:  23931\n",
      "Number of people that have put at least one question:  12329\n",
      "Average number of questions per student:  1.94\n",
      "Number of answers:  51123\n",
      "Number of people that have written at least one answer:  10169\n",
      "Average number of answers per professional:  5.03\n"
     ]
    }
   ],
   "source": [
    "print(\"Number of students: \",len(st['students_id'].unique()))\n",
    "print(\"Number of professionals: \",len(prof['professionals_id'].unique()))\n",
    "\n",
    "# Questions\n",
    "print(\"Number of questions: \",len(q['questions_id'].unique()))\n",
    "print(\"Number of people that have put at least one question: \",\n",
    "      len(q['questions_author_id'].unique()))\n",
    "print(\"Average number of questions per student: \",\n",
    "     np.round(q.groupby('questions_author_id').count()['questions_id'].mean(),2))\n",
    "\n",
    "# Answers\n",
    "print(\"Number of answers: \",len(ans['answers_id'].unique()))\n",
    "print(\"Number of people that have written at least one answer: \",\n",
    "      len(ans['answers_author_id'].unique()))\n",
    "print(\"Average number of answers per professional: \",\n",
    "     np.round(ans.groupby('answers_author_id').count()['answers_id'].mean(),2))"
   ]
  },
  {
   "cell_type": "markdown",
   "metadata": {},
   "source": [
    "#### QA: Questions + Answers"
   ]
  },
  {
   "cell_type": "code",
   "execution_count": 4,
   "metadata": {},
   "outputs": [],
   "source": [
    "qa = q.merge(right = ans, how = 'outer', left_on = 'questions_id' ,right_on = 'answers_question_id')"
   ]
  },
  {
   "cell_type": "code",
   "execution_count": 21,
   "metadata": {},
   "outputs": [
    {
     "name": "stdout",
     "output_type": "stream",
     "text": [
      "QA shape:  (51944, 10)\n",
      "Number of Questions without answer:  821\n",
      "Perc. Questions without Answer: 1.58% \n",
      "Number of Answers without questions:  0\n"
     ]
    }
   ],
   "source": [
    "# Questions\n",
    "print(\"QA shape: \", qa.shape)\n",
    " # qa.loc[qa['answers_id'].isnull()].head(n = 2)\n",
    "num_q_no_ans = qa.loc[qa['answers_id'].isnull()].shape[0]\n",
    "print(\"Number of Questions without answer: \", num_q_no_ans)\n",
    "perc_q_no_ans = np.round(num_q_no_ans*100/qa.shape[0],2)\n",
    "print(\"Perc. Questions without Answer: {}% \".format(perc_q_no_ans))\n",
    "\n",
    "# Answers\n",
    "print(\"Number of Answers without questions: \", qa.loc[qa['questions_id'].isnull()].shape[0])"
   ]
  },
  {
   "cell_type": "code",
   "execution_count": 7,
   "metadata": {},
   "outputs": [
    {
     "data": {
      "text/html": [
       "<div>\n",
       "<style scoped>\n",
       "    .dataframe tbody tr th:only-of-type {\n",
       "        vertical-align: middle;\n",
       "    }\n",
       "\n",
       "    .dataframe tbody tr th {\n",
       "        vertical-align: top;\n",
       "    }\n",
       "\n",
       "    .dataframe thead th {\n",
       "        text-align: right;\n",
       "    }\n",
       "</style>\n",
       "<table border=\"1\" class=\"dataframe\">\n",
       "  <thead>\n",
       "    <tr style=\"text-align: right;\">\n",
       "      <th></th>\n",
       "      <th>0</th>\n",
       "      <th>1</th>\n",
       "      <th>2</th>\n",
       "    </tr>\n",
       "  </thead>\n",
       "  <tbody>\n",
       "    <tr>\n",
       "      <th>answers_author_id</th>\n",
       "      <td>00009a0f9bda43eba47104e9ac62aff5</td>\n",
       "      <td>000d4635e5da41e3bfd83677ee11dda4</td>\n",
       "      <td>00271cc10e0245fba4a35e76e669c281</td>\n",
       "    </tr>\n",
       "    <tr>\n",
       "      <th>questions_id</th>\n",
       "      <td>3</td>\n",
       "      <td>3</td>\n",
       "      <td>24</td>\n",
       "    </tr>\n",
       "    <tr>\n",
       "      <th>questions_author_id</th>\n",
       "      <td>3</td>\n",
       "      <td>3</td>\n",
       "      <td>18</td>\n",
       "    </tr>\n",
       "    <tr>\n",
       "      <th>questions_date_added</th>\n",
       "      <td>3</td>\n",
       "      <td>3</td>\n",
       "      <td>24</td>\n",
       "    </tr>\n",
       "    <tr>\n",
       "      <th>questions_title</th>\n",
       "      <td>3</td>\n",
       "      <td>3</td>\n",
       "      <td>24</td>\n",
       "    </tr>\n",
       "    <tr>\n",
       "      <th>questions_body</th>\n",
       "      <td>3</td>\n",
       "      <td>3</td>\n",
       "      <td>24</td>\n",
       "    </tr>\n",
       "    <tr>\n",
       "      <th>answers_id</th>\n",
       "      <td>3</td>\n",
       "      <td>3</td>\n",
       "      <td>24</td>\n",
       "    </tr>\n",
       "    <tr>\n",
       "      <th>answers_question_id</th>\n",
       "      <td>3</td>\n",
       "      <td>3</td>\n",
       "      <td>24</td>\n",
       "    </tr>\n",
       "    <tr>\n",
       "      <th>answers_date_added</th>\n",
       "      <td>3</td>\n",
       "      <td>3</td>\n",
       "      <td>24</td>\n",
       "    </tr>\n",
       "    <tr>\n",
       "      <th>answers_body</th>\n",
       "      <td>3</td>\n",
       "      <td>3</td>\n",
       "      <td>24</td>\n",
       "    </tr>\n",
       "  </tbody>\n",
       "</table>\n",
       "</div>"
      ],
      "text/plain": [
       "                                                     0  \\\n",
       "answers_author_id     00009a0f9bda43eba47104e9ac62aff5   \n",
       "questions_id                                         3   \n",
       "questions_author_id                                  3   \n",
       "questions_date_added                                 3   \n",
       "questions_title                                      3   \n",
       "questions_body                                       3   \n",
       "answers_id                                           3   \n",
       "answers_question_id                                  3   \n",
       "answers_date_added                                   3   \n",
       "answers_body                                         3   \n",
       "\n",
       "                                                     1  \\\n",
       "answers_author_id     000d4635e5da41e3bfd83677ee11dda4   \n",
       "questions_id                                         3   \n",
       "questions_author_id                                  3   \n",
       "questions_date_added                                 3   \n",
       "questions_title                                      3   \n",
       "questions_body                                       3   \n",
       "answers_id                                           3   \n",
       "answers_question_id                                  3   \n",
       "answers_date_added                                   3   \n",
       "answers_body                                         3   \n",
       "\n",
       "                                                     2  \n",
       "answers_author_id     00271cc10e0245fba4a35e76e669c281  \n",
       "questions_id                                        24  \n",
       "questions_author_id                                 18  \n",
       "questions_date_added                                24  \n",
       "questions_title                                     24  \n",
       "questions_body                                      24  \n",
       "answers_id                                          24  \n",
       "answers_question_id                                 24  \n",
       "answers_date_added                                  24  \n",
       "answers_body                                        24  "
      ]
     },
     "execution_count": 7,
     "metadata": {},
     "output_type": "execute_result"
    }
   ],
   "source": [
    "key_var = 'answers_author_id'\n",
    "vars_unique = list(qa)\n",
    "vars_unique.remove(key_var)\n",
    "kpi_prof = qa.groupby([key_var])[vars_unique].nunique()\n",
    "kpi_prof = kpi_prof.reset_index()\n",
    "kpi_prof.head(3).T"
   ]
  },
  {
   "cell_type": "code",
   "execution_count": 8,
   "metadata": {},
   "outputs": [],
   "source": [
    "kpi_prof['st_over_qs'] = kpi_prof['questions_author_id'] / kpi_prof['questions_id']"
   ]
  },
  {
   "cell_type": "code",
   "execution_count": 9,
   "metadata": {},
   "outputs": [
    {
     "name": "stdout",
     "output_type": "stream",
     "text": [
      "Max number of questions answered per professional:  1686\n"
     ]
    }
   ],
   "source": [
    "print(\"Max number of questions answered per professional: \", kpi_prof['questions_id'].max())"
   ]
  },
  {
   "cell_type": "code",
   "execution_count": 10,
   "metadata": {},
   "outputs": [
    {
     "data": {
      "image/png": "[encoded data removed]",
      "text/plain": [
       "<matplotlib.figure.Figure at 0x10f10a2e8>"
      ]
     },
     "metadata": {},
     "output_type": "display_data"
    }
   ],
   "source": [
    "# Most of the professionals have asked a very few questions\n",
    "plt.hist(kpi_prof['questions_id'], facecolor='blue', density = False, \n",
    "         bins = np.linspace(1,50,10,endpoint=False))\n",
    "plt.show()"
   ]
  },
  {
   "cell_type": "markdown",
   "metadata": {},
   "source": [
    "#### QAP: Questions + Answers + Professionals"
   ]
  },
  {
   "cell_type": "code",
   "execution_count": 11,
   "metadata": {},
   "outputs": [],
   "source": [
    "qap = qa.merge(prof, left_on = 'answers_author_id', right_on = 'professionals_id',\n",
    "                    how = 'outer')"
   ]
  },
  {
   "cell_type": "code",
   "execution_count": 12,
   "metadata": {},
   "outputs": [
    {
     "name": "stdout",
     "output_type": "stream",
     "text": [
      "QA+P shape:  (70029, 15)\n",
      "Num. answers without author: 1838\n",
      "Num. prof with 0 answers: 18086\n",
      "Num. prof with at least one answer: 10068\n"
     ]
    }
   ],
   "source": [
    "print(\"QA+P shape: \", qap.shape)\n",
    "print(\"Num. answers without author:\", qap[qap.professionals_id.isnull()].shape[0])\n",
    "prof_no_ans = qap.loc[qap.answers_author_id.isnull()].professionals_id.unique()\n",
    "prof_ans = qap.loc[~qap.answers_author_id.isnull()].professionals_id.unique()\n",
    "print(\"Num. prof with 0 answers:\", len(prof_no_ans))\n",
    "print(\"Num. prof with at least one answer:\", len(prof_ans))"
   ]
  },
  {
   "cell_type": "markdown",
   "metadata": {},
   "source": [
    "#### QAPS: Questions + Answers + Professionals + Students"
   ]
  },
  {
   "cell_type": "code",
   "execution_count": 13,
   "metadata": {},
   "outputs": [],
   "source": [
    "qaps = qap.merge(st, left_on = 'questions_author_id', right_on = 'students_id',\n",
    "                    how = 'outer')"
   ]
  },
  {
   "cell_type": "code",
   "execution_count": 19,
   "metadata": {},
   "outputs": [
    {
     "name": "stdout",
     "output_type": "stream",
     "text": [
      "QAPS shape:  (88696, 18)\n",
      "Num. questions without author: 18498\n",
      "Num. students with 0 questions: 1  --> these are those obs with student NaN\n",
      "Num. students with at least one question: 30971\n"
     ]
    }
   ],
   "source": [
    "print(\"QAPS shape: \", qaps.shape)\n",
    "print(\"Num. questions without author:\", qaps[qaps.students_id.isnull()].shape[0])\n",
    "st_no_q = qaps.loc[qaps.students_id.isnull()].students_id.unique()\n",
    "st_q = qaps.loc[~qaps.students_id.isnull()].students_id.unique()\n",
    "print(\"Num. students with 0 questions:\", len(st_no_q), \" --> these are those obs with student NaN\")\n",
    "print(\"Num. students with at least one question:\", len(st_q))"
   ]
  },
  {
   "cell_type": "code",
   "execution_count": null,
   "metadata": {},
   "outputs": [],
   "source": []
  }
 ],
 "metadata": {
  "kernelspec": {
   "display_name": "Python [conda env:kaggle]",
   "language": "python",
   "name": "conda-env-kaggle-py"
  },
  "language_info": {
   "codemirror_mode": {
    "name": "ipython",
    "version": 3
   },
   "file_extension": ".py",
   "mimetype": "text/x-python",
   "name": "python",
   "nbconvert_exporter": "python",
   "pygments_lexer": "ipython3",
   "version": "3.6.8"
  }
 },
 "nbformat": 4,
 "nbformat_minor": 2
}
